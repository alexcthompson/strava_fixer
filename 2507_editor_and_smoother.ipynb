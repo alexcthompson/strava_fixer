{
 "cells": [
  {
   "cell_type": "markdown",
   "metadata": {},
   "source": [
    "## Imports"
   ]
  },
  {
   "cell_type": "code",
   "execution_count": null,
   "metadata": {},
   "outputs": [],
   "source": [
    "import copy\n",
    "import gpxpy\n",
    "from gpxpy.gpx import GPXTrackPoint\n",
    "\n",
    "import numpy as np\n",
    "from numpy import ndarray\n",
    "from sklearn.metrics import DistanceMetric\n",
    "\n",
    "# import xml.etree.ElementTree as et\n",
    "from plotly.offline import iplot, plot, init_notebook_mode\n",
    "import plotly.graph_objs as go\n",
    "\n",
    "init_notebook_mode()"
   ]
  },
  {
   "cell_type": "code",
   "execution_count": null,
   "metadata": {},
   "outputs": [],
   "source": [
    "%load_ext jupyter_black"
   ]
  },
  {
   "cell_type": "markdown",
   "metadata": {},
   "source": [
    "## Loading"
   ]
  },
  {
   "cell_type": "code",
   "execution_count": null,
   "metadata": {},
   "outputs": [],
   "source": [
    "with open(\"activity_data/250729_Morning_Run_orig.gpx\", \"r\") as gpx_file:\n",
    "    gpx_initial = gpxpy.parse(gpx_file)\n",
    "\n",
    "gpx = copy.deepcopy(gpx_initial)\n",
    "points = gpx.tracks[0].segments[0].points\n",
    "print(f\"{len(points) = }\")"
   ]
  },
  {
   "cell_type": "code",
   "execution_count": null,
   "metadata": {},
   "outputs": [],
   "source": [
    "def compute_local_correction(point: GPXTrackPoint) -> float:\n",
    "    \"\"\"Computes the local correction that makes 1 unit change in lat equal to 1 unit in lon.\"\"\"\n",
    "    dist = DistanceMetric.get_metric(\"haversine\")\n",
    "    epsilon = 0.00001\n",
    "    point_radians = (np.pi / 180) * np.array([point.latitude, point.longitude])\n",
    "\n",
    "    ddist_lat = dist.pairwise(np.array([point_radians, point_radians + [epsilon, 0]]))\n",
    "    ddist_lon = dist.pairwise(np.array([point_radians, point_radians + [0, epsilon]]))\n",
    "    correction = ddist_lat[0, 1] / ddist_lon[1, 0]\n",
    "\n",
    "    return correction\n",
    "\n",
    "\n",
    "def trace_from_points(points: list[GPXTrackPoint], correction_factor: float) -> list[str]:\n",
    "    trace = go.Scatter(\n",
    "        x=[point.longitude for point in points],\n",
    "        y=[point.latitude * correction_factor for point in points],\n",
    "        text=[f\"id: {i}\" for i in list(range(len(points)))],\n",
    "    )\n",
    "\n",
    "    return trace"
   ]
  },
  {
   "cell_type": "markdown",
   "metadata": {},
   "source": [
    "## Chart data"
   ]
  },
  {
   "cell_type": "markdown",
   "metadata": {},
   "source": [
    "### Compute local correction factor"
   ]
  },
  {
   "cell_type": "markdown",
   "metadata": {},
   "source": [
    "### Chart"
   ]
  },
  {
   "cell_type": "code",
   "execution_count": null,
   "metadata": {},
   "outputs": [],
   "source": [
    "correction_factor = compute_local_correction(points[0])\n",
    "data = [trace_from_points(points, correction_factor)]\n",
    "\n",
    "layout = go.Layout(\n",
    "    yaxis=dict(scaleanchor=\"x\", scaleratio=1),\n",
    "    height=600,\n",
    ")\n",
    "\n",
    "iplot(go.Figure(data=data, layout=layout))"
   ]
  },
  {
   "cell_type": "markdown",
   "metadata": {},
   "source": [
    "## Repair data"
   ]
  },
  {
   "cell_type": "markdown",
   "metadata": {},
   "source": [
    "### with interpolation"
   ]
  },
  {
   "cell_type": "code",
   "execution_count": null,
   "metadata": {},
   "outputs": [],
   "source": [
    "def interpolate_segment(\n",
    "    points: list[GPXTrackPoint], start_ix: int, end_ix: int\n",
    ") -> list[GPXTrackPoint]:\n",
    "    \"\"\"Interpolates between two points, given by index.  Returns the original\n",
    "    section for convenience of plotting.\"\"\"\n",
    "    orig_segment = copy.deepcopy(points[start_ix : end_ix + 1])\n",
    "\n",
    "    start_point = np.array(\n",
    "        [\n",
    "            points[start_ix].latitude,\n",
    "            points[start_ix].longitude,\n",
    "            points[start_ix].elevation,\n",
    "        ]\n",
    "    )\n",
    "    end_point = np.array(\n",
    "        [points[end_ix].latitude, points[end_ix].longitude, points[end_ix].elevation]\n",
    "    )\n",
    "\n",
    "    start_time = points[start_ix].time\n",
    "    end_time = points[end_ix].time\n",
    "\n",
    "    dpos = end_point - start_point\n",
    "    dt = end_time - start_time\n",
    "\n",
    "    for point in points[start_ix + 1 : end_ix]:\n",
    "        p = (point.time - start_time) / dt\n",
    "        new_point = start_point + p * dpos\n",
    "\n",
    "        point.latitude = round(new_point[0], 7)\n",
    "        point.longitude = round(new_point[1], 7)\n",
    "        point.elevation = round(new_point[2], 1)\n",
    "\n",
    "    return orig_segment"
   ]
  },
  {
   "cell_type": "code",
   "execution_count": null,
   "metadata": {},
   "outputs": [],
   "source": [
    "start_ix = 251\n",
    "end_ix = 300"
   ]
  },
  {
   "cell_type": "code",
   "execution_count": null,
   "metadata": {},
   "outputs": [],
   "source": [
    "orig_segment = interpolate_segment(points, start_ix, end_ix)"
   ]
  },
  {
   "cell_type": "code",
   "execution_count": null,
   "metadata": {},
   "outputs": [],
   "source": [
    "correction_factor = compute_local_correction(points[0])\n",
    "\n",
    "data = [\n",
    "    trace_from_points(points, correction_factor),\n",
    "    trace_from_points(orig_segment, correction_factor),\n",
    "]\n",
    "\n",
    "layout = go.Layout(\n",
    "    yaxis=dict(scaleanchor=\"x\", scaleratio=1),\n",
    "    height=600,\n",
    ")\n",
    "\n",
    "iplot(go.Figure(data=data, layout=layout))"
   ]
  },
  {
   "cell_type": "markdown",
   "metadata": {},
   "source": [
    "### with section removal"
   ]
  },
  {
   "cell_type": "code",
   "execution_count": null,
   "metadata": {},
   "outputs": [],
   "source": [
    "def delete_segment(points: list[GPXTrackPoint], start_ix, end_ix) -> list[GPXTrackPoint]:\n",
    "    \"\"\"Deletes a section of bad data from Strava. Strava will interpret this\n",
    "    as the watch being stopped, and simply not count this interval.\"\"\"\n",
    "    orig_segment = copy.deepcopy(points[start_ix : end_ix + 1])\n",
    "    del points[start_ix : end_ix + 1]\n",
    "\n",
    "    return orig_segment"
   ]
  },
  {
   "cell_type": "code",
   "execution_count": null,
   "metadata": {},
   "outputs": [],
   "source": [
    "start_ix = 1089\n",
    "end_ix = 2466\n",
    "\n",
    "orig_segment = delete_segment(points, start_ix, end_ix)\n",
    "correction_factor = compute_local_correction(points[0])\n",
    "\n",
    "data = [\n",
    "    trace_from_points(points, correction_factor),\n",
    "    trace_from_points(orig_segment, correction_factor),\n",
    "]\n",
    "\n",
    "layout = go.Layout(\n",
    "    yaxis=dict(scaleanchor=\"x\", scaleratio=1),\n",
    "    height=600,\n",
    ")\n",
    "\n",
    "iplot(go.Figure(data=data, layout=layout))"
   ]
  },
  {
   "cell_type": "code",
   "execution_count": null,
   "metadata": {},
   "outputs": [],
   "source": [
    "len(points)"
   ]
  },
  {
   "cell_type": "markdown",
   "metadata": {},
   "source": [
    "## Export"
   ]
  },
  {
   "cell_type": "code",
   "execution_count": null,
   "metadata": {},
   "outputs": [],
   "source": [
    "with open(\"activity_data/250729_Morning_Run_fixed.gpx\", \"w\") as out_file:\n",
    "    out_file.write(gpx.to_xml())"
   ]
  }
 ],
 "metadata": {
  "kernelspec": {
   "display_name": "Python 3 (ipykernel)",
   "language": "python",
   "name": "python3"
  },
  "language_info": {
   "codemirror_mode": {
    "name": "ipython",
    "version": 3
   },
   "file_extension": ".py",
   "mimetype": "text/x-python",
   "name": "python",
   "nbconvert_exporter": "python",
   "pygments_lexer": "ipython3",
   "version": "3.13.5"
  }
 },
 "nbformat": 4,
 "nbformat_minor": 4
}
