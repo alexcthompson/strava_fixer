{
 "cells": [
  {
   "cell_type": "markdown",
   "metadata": {},
   "source": [
    "## Imports"
   ]
  },
  {
   "cell_type": "code",
   "execution_count": null,
   "metadata": {},
   "outputs": [],
   "source": [
    "import copy\n",
    "import gpxpy\n",
    "\n",
    "import numpy as np\n",
    "from sklearn.metrics import DistanceMetric\n",
    "\n",
    "# import xml.etree.ElementTree as et\n",
    "from plotly.offline import iplot, plot, init_notebook_mode\n",
    "import plotly.graph_objs as go\n",
    "\n",
    "init_notebook_mode()"
   ]
  },
  {
   "cell_type": "markdown",
   "metadata": {},
   "source": [
    "## Loading"
   ]
  },
  {
   "cell_type": "code",
   "execution_count": null,
   "metadata": {},
   "outputs": [],
   "source": [
    "with open(\"activity_data/250721_morning_run_original.gpx\", \"r\") as gpx_file:\n",
    "    gpx_initial = gpxpy.parse(gpx_file)\n",
    "\n",
    "gpx = copy.deepcopy(gpx_initial)"
   ]
  },
  {
   "cell_type": "code",
   "execution_count": null,
   "metadata": {},
   "outputs": [],
   "source": [
    "points = gpx.tracks[0].segments[0].points"
   ]
  },
  {
   "cell_type": "code",
   "execution_count": null,
   "metadata": {},
   "outputs": [],
   "source": [
    "points_radians = np.array(\n",
    "    [[point.latitude * np.pi / 180, point.longitude * np.pi / 180] for point in points]\n",
    ")"
   ]
  },
  {
   "cell_type": "markdown",
   "metadata": {},
   "source": [
    "## Chart data"
   ]
  },
  {
   "cell_type": "markdown",
   "metadata": {},
   "source": [
    "### Compute local correction factor"
   ]
  },
  {
   "cell_type": "code",
   "execution_count": null,
   "metadata": {},
   "outputs": [],
   "source": [
    "dist = DistanceMetric.get_metric(\"haversine\")\n",
    "local_point = points_radians[0]\n",
    "\n",
    "epsilon = 0.00001\n",
    "\n",
    "ddist_lat = dist.pairwise(np.array([local_point, local_point + [epsilon, 0]]))\n",
    "ddist_lon = dist.pairwise(np.array([local_point, local_point + [0, epsilon]]))\n",
    "correction_factor = ddist_lat[0, 1] / ddist_lon[0, 1]\n",
    "\n",
    "print(f\"map projection correction_factor = {correction_factor:.3f}\")"
   ]
  },
  {
   "cell_type": "markdown",
   "metadata": {},
   "source": [
    "### Chart"
   ]
  },
  {
   "cell_type": "code",
   "execution_count": null,
   "metadata": {},
   "outputs": [],
   "source": [
    "data_labels = [\n",
    "    f\"id {ix}:({points[ix].latitude:.7f}, {points[ix].longitude:.7f})\" for ix in range(len(points))\n",
    "]\n",
    "print(data_labels[:4])\n",
    "\n",
    "trace = go.Scatter(\n",
    "    x=points_radians[:, 1],\n",
    "    y=points_radians[:, 0] * correction_factor,\n",
    "    text=data_labels,\n",
    ")\n",
    "\n",
    "data = [trace]\n",
    "\n",
    "layout = go.Layout(\n",
    "    yaxis=dict(scaleanchor=\"x\", scaleratio=1),\n",
    "    height=600,\n",
    ")\n",
    "\n",
    "iplot(go.Figure(data=data, layout=layout))"
   ]
  },
  {
   "cell_type": "markdown",
   "metadata": {},
   "source": [
    "## Repair data"
   ]
  },
  {
   "cell_type": "markdown",
   "metadata": {},
   "source": [
    "### Start and end of bad segment"
   ]
  },
  {
   "cell_type": "code",
   "execution_count": null,
   "metadata": {},
   "outputs": [],
   "source": [
    "start_ix = 1633\n",
    "end_ix = 1680"
   ]
  },
  {
   "cell_type": "markdown",
   "metadata": {},
   "source": [
    "### Store old data"
   ]
  },
  {
   "cell_type": "code",
   "execution_count": null,
   "metadata": {},
   "outputs": [],
   "source": [
    "bad_points = copy.deepcopy(points[start_ix : end_ix + 1])\n",
    "bad_points_labels = [\n",
    "    f\"id {ix + start_ix}:({bad_points[ix].latitude:.6f}, {bad_points[ix].longitude:.6f})\"\n",
    "    for ix in range(len(bad_points))\n",
    "]\n",
    "bad_points_radians = np.array(\n",
    "    [[point.latitude * np.pi / 180, point.longitude * np.pi / 180] for point in bad_points]\n",
    ")"
   ]
  },
  {
   "cell_type": "markdown",
   "metadata": {},
   "source": [
    "### Interpolate and update `points`"
   ]
  },
  {
   "cell_type": "code",
   "execution_count": null,
   "metadata": {},
   "outputs": [],
   "source": [
    "start_point = np.array(\n",
    "    [points[start_ix].latitude, points[start_ix].longitude, points[start_ix].elevation]\n",
    ")\n",
    "end_point = np.array([points[end_ix].latitude, points[end_ix].longitude, points[end_ix].elevation])\n",
    "\n",
    "start_time = points[start_ix].time\n",
    "end_time = points[end_ix].time\n",
    "\n",
    "dpos = end_point - start_point\n",
    "dt = end_time - start_time\n",
    "\n",
    "for point in points[start_ix + 1 : end_ix]:\n",
    "    p = (point.time - start_time) / dt\n",
    "    new_point = start_point + p * dpos\n",
    "    point.latitude = round(new_point[0], 7)\n",
    "    point.longitude = round(new_point[1], 7)\n",
    "    point.elevation = round(new_point[2], 1)"
   ]
  },
  {
   "cell_type": "markdown",
   "metadata": {},
   "source": [
    "### Compare before and after"
   ]
  },
  {
   "cell_type": "code",
   "execution_count": null,
   "metadata": {},
   "outputs": [],
   "source": [
    "data_labels = [\n",
    "    f\"id {ix}:({points[ix].latitude:.7f}, {points[ix].longitude:.7f})\" for ix in range(len(points))\n",
    "]\n",
    "points_radians = np.array(\n",
    "    [[point.latitude * np.pi / 180, point.longitude * np.pi / 180] for point in points]\n",
    ")\n",
    "\n",
    "points_trace = go.Scatter(\n",
    "    x=points_radians[:, 1],\n",
    "    y=points_radians[:, 0] * correction_factor,\n",
    "    text=data_labels,\n",
    ")\n",
    "\n",
    "bad_points_trace = go.Scatter(\n",
    "    x=bad_points_radians[:, 1],\n",
    "    y=bad_points_radians[:, 0] * correction_factor,\n",
    "    text=bad_points_labels,\n",
    ")\n",
    "\n",
    "data = [points_trace, bad_points_trace]\n",
    "\n",
    "layout = go.Layout(\n",
    "    yaxis=dict(scaleanchor=\"x\", scaleratio=1),\n",
    "    height=600,\n",
    ")\n",
    "\n",
    "iplot(go.Figure(data=data, layout=layout))"
   ]
  },
  {
   "cell_type": "markdown",
   "metadata": {},
   "source": [
    "## Export"
   ]
  },
  {
   "cell_type": "code",
   "execution_count": null,
   "metadata": {},
   "outputs": [],
   "source": [
    "with open(\"activity_data/250721_morning_run_fixed.gpx\", \"w\") as out_file:\n",
    "    out_file.write(gpx.to_xml())"
   ]
  }
 ],
 "metadata": {
  "kernelspec": {
   "display_name": "Python 3 (ipykernel)",
   "language": "python",
   "name": "python3"
  },
  "language_info": {
   "codemirror_mode": {
    "name": "ipython",
    "version": 3
   },
   "file_extension": ".py",
   "mimetype": "text/x-python",
   "name": "python",
   "nbconvert_exporter": "python",
   "pygments_lexer": "ipython3",
   "version": "3.13.5"
  }
 },
 "nbformat": 4,
 "nbformat_minor": 4
}
