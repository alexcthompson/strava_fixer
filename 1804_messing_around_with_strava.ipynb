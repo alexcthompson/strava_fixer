{
 "cells": [
  {
   "cell_type": "markdown",
   "metadata": {},
   "source": [
    "## Imports"
   ]
  },
  {
   "cell_type": "code",
   "execution_count": null,
   "metadata": {},
   "outputs": [],
   "source": [
    "import numpy as np\n",
    "from sklearn.metrics import DistanceMetric\n",
    "\n",
    "import xml.etree.ElementTree as et\n",
    "from plotly.offline import iplot, plot, init_notebook_mode\n",
    "import plotly.graph_objs as go\n",
    "\n",
    "init_notebook_mode()"
   ]
  },
  {
   "cell_type": "code",
   "execution_count": null,
   "metadata": {},
   "outputs": [],
   "source": [
    "namespaces = [\n",
    "    \"http://www.topografix.com/GPX/1/1 http://www.topografix.com/GPX/1/1/gpx.xsd http://www.garmin.com/xmlschemas/GpxExtensions/v3 http://www.garmin.com/xmlschemas/GpxExtensionsv3.xsd http://www.garmin.com/xmlschemas/TrackPointExtension/v1 http://www.garmin.com/xmlschemas/TrackPointExtensionv1.xsd http://www.garmin.com/xmlschemas/GpxExtensions/v3 http://www.garmin.com/xmlschemas/GpxExtensionsv3.xsd http://www.garmin.com/xmlschemas/TrackPointExtension/v1 http://www.garmin.com/xmlschemas/TrackPointExtensionv1.xsd http://www.garmin.com/xmlschemas/GpxExtensions/v3 http://www.garmin.com/xmlschemas/GpxExtensionsv3.xsd http://www.garmin.com/xmlschemas/TrackPointExtension/v1 http://www.garmin.com/xmlschemas/TrackPointExtensionv1.xsd http://www.garmin.com/xmlschemas/GpxExtensions/v3 http://www.garmin.com/xmlschemas/GpxExtensionsv3.xsd http://www.garmin.com/xmlschemas/TrackPointExtension/v1 http://www.garmin.com/xmlschemas/TrackPointExtensionv1.xsd http://www.garmin.com/xmlschemas/GpxExtensions/v3 http://www.garmin.com/xmlschemas/GpxExtensionsv3.xsd http://www.garmin.com/xmlschemas/TrackPointExtension/v1 http://www.garmin.com/xmlschemas/TrackPointExtensionv1.xsd http://www.garmin.com/xmlschemas/GpxExtensions/v3 http://www.garmin.com/xmlschemas/GpxExtensionsv3.xsd http://www.garmin.com/xmlschemas/TrackPointExtension/v1 http://www.garmin.com/xmlschemas/TrackPointExtensionv1.xsd http://www.garmin.com/xmlschemas/GpxExtensions/v3 http://www.garmin.com/xmlschemas/GpxExtensionsv3.xsd http://www.garmin.com/xmlschemas/TrackPointExtension/v1 http://www.garmin.com/xmlschemas/TrackPointExtensionv1.xsd\",\n",
    "    \"http://www.w3.org/2001/XMLSchema-instance\",\n",
    "    \"http://www.topografix.com/GPX/1/1\",\n",
    "]\n",
    "\n",
    "for namespace in namespaces:\n",
    "    et.register_namespace(\"\", namespace)\n",
    "\n",
    "tree = et.parse(\"activity_data/250704_super_bad_gps.gpx\")\n",
    "root = tree.getroot()\n",
    "\n",
    "temp = [\n",
    "    [float(n.attrib[\"lat\"]) * np.pi / 180, float(n.attrib[\"lon\"]) * np.pi / 180] for n in root[1][2]\n",
    "]\n",
    "pts = np.array(temp)\n",
    "\n",
    "dist = DistanceMetric.get_metric(\"haversine\")\n",
    "\n",
    "ref = pts[0]\n",
    "\n",
    "ref"
   ]
  },
  {
   "cell_type": "code",
   "execution_count": null,
   "metadata": {},
   "outputs": [],
   "source": [
    "pts[:4,]"
   ]
  },
  {
   "cell_type": "code",
   "execution_count": null,
   "metadata": {},
   "outputs": [],
   "source": [
    "print(root)"
   ]
  },
  {
   "cell_type": "code",
   "execution_count": null,
   "metadata": {},
   "outputs": [],
   "source": [
    "epsilon = 0.00001\n",
    "epsilon_lat = ref + [epsilon, 0]\n",
    "epsilon_lon = ref + [0, epsilon]\n",
    "\n",
    "add_lat = np.array([ref, epsilon_lat])\n",
    "add_lon = np.array([ref, epsilon_lon])\n",
    "print(dist.pairwise(add_lat))\n",
    "print(dist.pairwise(add_lon))\n",
    "\n",
    "corr_factor = dist.pairwise(add_lat)[0, 1] / dist.pairwise(add_lon)[0, 1]\n",
    "print(corr_factor)"
   ]
  },
  {
   "cell_type": "code",
   "execution_count": null,
   "metadata": {},
   "outputs": [],
   "source": [
    "window = 7\n",
    "smoothed = 1 * pts[: -window + 1]\n",
    "\n",
    "for i in range(1, window):\n",
    "    print(f\"{i = }\")\n",
    "    if i != window - 1:\n",
    "        smoothed += 1 * pts[i : -window + i + 1]\n",
    "    elif i == window - 1:\n",
    "        smoothed += pts[i:]\n",
    "\n",
    "smoothed /= window\n",
    "# smoothed = (\n",
    "#     1 * pts[:-8] +\n",
    "#     1 * pts[1:-7] +\n",
    "#     2 * pts[2:-6] +\n",
    "#     3 * pts[3:-5] +\n",
    "#     4 * pts[4:-4] +\n",
    "#     3 * pts[5:-3] +\n",
    "#     2 * pts[6:-2] +\n",
    "#     1 * pts[7:-1] +\n",
    "#     1 * pts[8:]\n",
    "# ) / 18\n",
    "# smoothed = (1*pts[:-6] + 1*pts[1:-5] + 2*pts[2:-4] + 3*pts[3:-3] + 2*pts[4:-2] + 1*pts[5:-1] + 1*pts[6:]) / 11\n",
    "# smoothed = (1*pts[:-4] + 1.5*pts[1:-3] + 4*pts[2:-2] + 1.5*pts[3:-1] + 1*pts[4:]) / 9\n",
    "# smoothed = (1*pts[:-4] + 2*pts[1:-3] + 3*pts[2:-2] + 2*pts[3:-1] + 1*pts[4:]) / 9"
   ]
  },
  {
   "cell_type": "code",
   "execution_count": null,
   "metadata": {},
   "outputs": [],
   "source": [
    "trace = go.Scatter(\n",
    "    x=pts[:, 1],\n",
    "    y=pts[:, 0] * corr_factor,\n",
    ")\n",
    "\n",
    "trace_smoothed = go.Scatter(\n",
    "    x=smoothed[:, 1],\n",
    "    y=smoothed[:, 0] * corr_factor,\n",
    ")\n",
    "\n",
    "data = [trace, trace_smoothed]\n",
    "\n",
    "layout = go.Layout(\n",
    "    yaxis=dict(scaleanchor=\"x\", scaleratio=1),\n",
    "    height=600,\n",
    ")\n",
    "\n",
    "iplot(go.Figure(data=data, layout=layout))"
   ]
  },
  {
   "cell_type": "markdown",
   "metadata": {},
   "source": [
    "# Delete initial and final nodes"
   ]
  },
  {
   "cell_type": "code",
   "execution_count": null,
   "metadata": {},
   "outputs": [],
   "source": [
    "node = root[1][2]"
   ]
  },
  {
   "cell_type": "code",
   "execution_count": null,
   "metadata": {},
   "outputs": [],
   "source": [
    "# for index in [-1,-1,-1, 0, 0, 0]:\n",
    "# # for index in [-1,-1, 0, 0]:\n",
    "#     print(node[index].attrib)\n",
    "#     node.remove(node[index])"
   ]
  },
  {
   "cell_type": "markdown",
   "metadata": {},
   "source": [
    "# Delete elevation nodes"
   ]
  },
  {
   "cell_type": "code",
   "execution_count": null,
   "metadata": {},
   "outputs": [],
   "source": [
    "offset = window / 3\n",
    "\n",
    "for i in range(len(node)):\n",
    "    node[i].remove(node[i][0])"
   ]
  },
  {
   "cell_type": "markdown",
   "metadata": {},
   "source": [
    "# Replace lats and lons"
   ]
  },
  {
   "cell_type": "code",
   "execution_count": null,
   "metadata": {},
   "outputs": [],
   "source": [
    "assert len(node) == len(smoothed)"
   ]
  },
  {
   "cell_type": "code",
   "execution_count": null,
   "metadata": {},
   "outputs": [],
   "source": [
    "print(f\"{len(smoothed) = }\")\n",
    "print(f\"{len(node) = }\")"
   ]
  },
  {
   "cell_type": "code",
   "execution_count": null,
   "metadata": {},
   "outputs": [],
   "source": [
    "for i in range(3, len(smoothed)):\n",
    "    node[i].attrib[\"lat\"] = \"{:.7f}\".format(smoothed[i, 0] * 180 / np.pi)\n",
    "    node[i].attrib[\"lon\"] = \"{:.7f}\".format(smoothed[i, 1] * 180 / np.pi)"
   ]
  },
  {
   "cell_type": "markdown",
   "metadata": {},
   "source": [
    "# Write out (and don't forget to fix the namespace BS after"
   ]
  },
  {
   "cell_type": "code",
   "execution_count": null,
   "metadata": {},
   "outputs": [],
   "source": [
    "tree.write(\"fixed_for_upload.gpx\")"
   ]
  },
  {
   "cell_type": "markdown",
   "metadata": {},
   "source": [
    "- find and replace `ns2` with `gpxtpx` everywhere\n",
    "- replace schema namespace bullshit on L1 with same front matter from original file"
   ]
  }
 ],
 "metadata": {
  "kernelspec": {
   "display_name": "Python 3 (ipykernel)",
   "language": "python",
   "name": "python3"
  },
  "language_info": {
   "codemirror_mode": {
    "name": "ipython",
    "version": 3
   },
   "file_extension": ".py",
   "mimetype": "text/x-python",
   "name": "python",
   "nbconvert_exporter": "python",
   "pygments_lexer": "ipython3",
   "version": "3.13.5"
  }
 },
 "nbformat": 4,
 "nbformat_minor": 4
}
